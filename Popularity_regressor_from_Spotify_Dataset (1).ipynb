{
  "nbformat": 4,
  "nbformat_minor": 0,
  "metadata": {
    "colab": {
      "name": "Popularity regressor from Spotify Dataset",
      "provenance": [],
      "collapsed_sections": [
        "hKtAAC7THWUn",
        "5t_Y7kz9HeG3",
        "61VCmIkNHizk",
        "QzpOLM7IHo9j",
        "rCee1MLvH0N8",
        "U6lTdemnSbJK"
      ]
    },
    "kernelspec": {
      "display_name": "Python 3",
      "language": "python",
      "name": "python3"
    },
    "language_info": {
      "codemirror_mode": {
        "name": "ipython",
        "version": 3
      },
      "file_extension": ".py",
      "mimetype": "text/x-python",
      "name": "python",
      "nbconvert_exporter": "python",
      "pygments_lexer": "ipython3",
      "version": "3.8.6"
    }
  },
  "cells": [
    {
      "cell_type": "markdown",
      "metadata": {
        "id": "WGmyjgNvDVXA"
      },
      "source": [
        "You will be able to view the data set uses on this Kaggle page\n",
        "[Spotify dataset](https://www.kaggle.com/yamaerenay/spotify-dataset-19212020-160k-tracks)"
      ]
    },
    {
      "cell_type": "markdown",
      "metadata": {
        "id": "hKtAAC7THWUn"
      },
      "source": [
        "#Importing Libraries"
      ]
    },
    {
      "cell_type": "code",
      "metadata": {
        "id": "CU_--fA9HSSD"
      },
      "source": [
        "\n",
        "import pandas as pd\n",
        "import numpy as np\n",
        "import matplotlib.pyplot as plt\n",
        "\n",
        "from sklearn.model_selection import train_test_split\n",
        "\n",
        "#model libraries\n",
        "from sklearn.pipeline import make_pipeline\n",
        "from sklearn.preprocessing import StandardScaler\n",
        "from sklearn.feature_selection import SelectKBest\n",
        "from sklearn.linear_model import Ridge\n",
        "from sklearn.ensemble import RandomForestRegressor\n",
        "\n",
        "#metric libraries\n",
        "from sklearn.metrics import mean_absolute_error\n",
        "\n",
        "\n",
        "#Cross validation\n",
        "from sklearn.model_selection import GridSearchCV,RandomizedSearchCV"
      ],
      "execution_count": 15,
      "outputs": []
    },
    {
      "cell_type": "markdown",
      "metadata": {
        "id": "DR107-g2HZ_j"
      },
      "source": [
        "#Wrangle Data"
      ]
    },
    {
      "cell_type": "markdown",
      "metadata": {
        "id": "iqjJHeUnRfA6"
      },
      "source": [
        "Issues:\n",
        "\n",
        "\n",
        "*   Whether or not to include year in my modeling. I don't believe it was a leaky feature, but there is a bias towards newer released songs. So much that removing all features besides year would lead to better predictor of popularity than the baseline.\n",
        "\n",
        "*   I removed the artist column because of high cardinality, but I created a new column which includes the number of artists involved in the song. I would have liked to find a way to add importance to a certain artists, if they were a featured artist in another song, or if they were becoming more popular.\n",
        "\n",
        "*   I removed outliers of songs that were less than 10 seconds, only one song was over 5 minutes, and songs with less than a tempo of 5 beats per minutes\n",
        "\n",
        "\n",
        "*   I created a column for the month it was released, maybe it was a Christmas song released in December, or certain months are worse or better for release\n",
        "\n",
        "\n",
        "*   Set the ID as the Index.\n",
        "\n",
        "*   Name of song was also removed due to high cardinality\n",
        "\n",
        "\n",
        "\n"
      ]
    },
    {
      "cell_type": "code",
      "metadata": {
        "id": "TaGQHMvsHdlR"
      },
      "source": [
        "spotify = pd.read_csv('Spotify.csv', index_col='id')"
      ],
      "execution_count": 16,
      "outputs": []
    },
    {
      "cell_type": "code",
      "metadata": {
        "id": "qU7ivGXiIJ2D"
      },
      "source": [
        "def wrangle(X):\n",
        "  X=X.copy()\n",
        "\n",
        "  #Removes tracks with no release date\n",
        "  X = X[X['release_date'].isnull()==False]\n",
        "  X=X[X['release_date'].apply(len) > 4]\n",
        "\n",
        "  # Convert date of release to date time\n",
        "  X['release_date'] = pd.to_datetime(X['release_date'])\n",
        "\n",
        "  #Month of release\n",
        "  X['release_month'] = pd.to_datetime(X['release_date']).dt.strftime('%m').astype(int)\n",
        "\n",
        "  #remove outlier tracks(too slow, too long, too short)\n",
        "  X=X[X['tempo']>5]\n",
        "  X=X[X['duration_ms']<5_000_000]\n",
        "  X=X[X['duration_ms']>10_000]\n",
        "\n",
        "  #convert duration from milliseconds to minutes rounded to the 10th place\n",
        "  X['duration_minutes'] = round((X['duration_ms']/1000)/60, 2)\n",
        "\n",
        "  #create new column with numbers artists involved in the song\n",
        "  X['artists'] = X['artists'].apply(lambda k: k.strip('[]/n'))\n",
        "  X['artists'] = X['artists'].apply(lambda k: k.split(','))\n",
        "  X['num_artist'] = X['artists'].apply(len)\n",
        "\n",
        "  #drop columns(duration_ms, id, year, artists)\n",
        "  drop_cols = ['duration_ms', 'year','release_date','artists', 'name']\n",
        "  X.drop(columns=drop_cols, inplace=True)\n",
        "\n",
        "  return X"
      ],
      "execution_count": 17,
      "outputs": []
    },
    {
      "cell_type": "code",
      "metadata": {
        "id": "tm2mF7bgLpa6"
      },
      "source": [
        "spotify = wrangle(spotify)"
      ],
      "execution_count": 18,
      "outputs": []
    },
    {
      "cell_type": "code",
      "metadata": {
        "colab": {
          "base_uri": "https://localhost:8080/",
          "height": 232
        },
        "id": "qmdWRRLiRfRZ",
        "outputId": "e0de6d5c-ed4b-496a-fb5b-c14e70c4fd03"
      },
      "source": [
        "spotify.head()"
      ],
      "execution_count": 19,
      "outputs": [
        {
          "output_type": "execute_result",
          "data": {
            "text/html": [
              "<div>\n",
              "<style scoped>\n",
              "    .dataframe tbody tr th:only-of-type {\n",
              "        vertical-align: middle;\n",
              "    }\n",
              "\n",
              "    .dataframe tbody tr th {\n",
              "        vertical-align: top;\n",
              "    }\n",
              "\n",
              "    .dataframe thead th {\n",
              "        text-align: right;\n",
              "    }\n",
              "</style>\n",
              "<table border=\"1\" class=\"dataframe\">\n",
              "  <thead>\n",
              "    <tr style=\"text-align: right;\">\n",
              "      <th></th>\n",
              "      <th>acousticness</th>\n",
              "      <th>danceability</th>\n",
              "      <th>energy</th>\n",
              "      <th>explicit</th>\n",
              "      <th>instrumentalness</th>\n",
              "      <th>key</th>\n",
              "      <th>liveness</th>\n",
              "      <th>loudness</th>\n",
              "      <th>mode</th>\n",
              "      <th>popularity</th>\n",
              "      <th>speechiness</th>\n",
              "      <th>tempo</th>\n",
              "      <th>valence</th>\n",
              "      <th>release_month</th>\n",
              "      <th>duration_minutes</th>\n",
              "      <th>num_artist</th>\n",
              "    </tr>\n",
              "    <tr>\n",
              "      <th>id</th>\n",
              "      <th></th>\n",
              "      <th></th>\n",
              "      <th></th>\n",
              "      <th></th>\n",
              "      <th></th>\n",
              "      <th></th>\n",
              "      <th></th>\n",
              "      <th></th>\n",
              "      <th></th>\n",
              "      <th></th>\n",
              "      <th></th>\n",
              "      <th></th>\n",
              "      <th></th>\n",
              "      <th></th>\n",
              "      <th></th>\n",
              "      <th></th>\n",
              "    </tr>\n",
              "  </thead>\n",
              "  <tbody>\n",
              "    <tr>\n",
              "      <th>6M94FkXd15sOAOQYRnWPN8</th>\n",
              "      <td>0.995</td>\n",
              "      <td>0.781</td>\n",
              "      <td>0.130</td>\n",
              "      <td>0</td>\n",
              "      <td>0.8870</td>\n",
              "      <td>1</td>\n",
              "      <td>0.111</td>\n",
              "      <td>-14.734</td>\n",
              "      <td>0</td>\n",
              "      <td>0</td>\n",
              "      <td>0.0926</td>\n",
              "      <td>108.003</td>\n",
              "      <td>0.720</td>\n",
              "      <td>9</td>\n",
              "      <td>3.01</td>\n",
              "      <td>1</td>\n",
              "    </tr>\n",
              "    <tr>\n",
              "      <th>6OaJ8Bh7lsBeYoBmwmo2nh</th>\n",
              "      <td>0.995</td>\n",
              "      <td>0.683</td>\n",
              "      <td>0.207</td>\n",
              "      <td>0</td>\n",
              "      <td>0.2060</td>\n",
              "      <td>9</td>\n",
              "      <td>0.337</td>\n",
              "      <td>-9.801</td>\n",
              "      <td>0</td>\n",
              "      <td>0</td>\n",
              "      <td>0.1270</td>\n",
              "      <td>119.833</td>\n",
              "      <td>0.493</td>\n",
              "      <td>10</td>\n",
              "      <td>2.71</td>\n",
              "      <td>2</td>\n",
              "    </tr>\n",
              "    <tr>\n",
              "      <th>6Rwn56jcC0TdGQzbRl7NGw</th>\n",
              "      <td>0.977</td>\n",
              "      <td>0.335</td>\n",
              "      <td>0.105</td>\n",
              "      <td>0</td>\n",
              "      <td>0.8400</td>\n",
              "      <td>5</td>\n",
              "      <td>0.231</td>\n",
              "      <td>-16.049</td>\n",
              "      <td>0</td>\n",
              "      <td>0</td>\n",
              "      <td>0.0716</td>\n",
              "      <td>80.204</td>\n",
              "      <td>0.406</td>\n",
              "      <td>1</td>\n",
              "      <td>4.61</td>\n",
              "      <td>3</td>\n",
              "    </tr>\n",
              "    <tr>\n",
              "      <th>6TFuAErGpJ9FpxQQ1HC8nM</th>\n",
              "      <td>0.994</td>\n",
              "      <td>0.787</td>\n",
              "      <td>0.156</td>\n",
              "      <td>0</td>\n",
              "      <td>0.6590</td>\n",
              "      <td>4</td>\n",
              "      <td>0.110</td>\n",
              "      <td>-14.056</td>\n",
              "      <td>0</td>\n",
              "      <td>0</td>\n",
              "      <td>0.1570</td>\n",
              "      <td>117.167</td>\n",
              "      <td>0.849</td>\n",
              "      <td>9</td>\n",
              "      <td>2.79</td>\n",
              "      <td>2</td>\n",
              "    </tr>\n",
              "    <tr>\n",
              "      <th>6Ukl7n0q3Cjd0Og8uBmVeP</th>\n",
              "      <td>0.992</td>\n",
              "      <td>0.763</td>\n",
              "      <td>0.132</td>\n",
              "      <td>0</td>\n",
              "      <td>0.0693</td>\n",
              "      <td>4</td>\n",
              "      <td>0.112</td>\n",
              "      <td>-13.002</td>\n",
              "      <td>1</td>\n",
              "      <td>0</td>\n",
              "      <td>0.0886</td>\n",
              "      <td>111.679</td>\n",
              "      <td>0.832</td>\n",
              "      <td>9</td>\n",
              "      <td>2.90</td>\n",
              "      <td>1</td>\n",
              "    </tr>\n",
              "  </tbody>\n",
              "</table>\n",
              "</div>"
            ],
            "text/plain": [
              "                        acousticness  ...  num_artist\n",
              "id                                    ...            \n",
              "6M94FkXd15sOAOQYRnWPN8         0.995  ...           1\n",
              "6OaJ8Bh7lsBeYoBmwmo2nh         0.995  ...           2\n",
              "6Rwn56jcC0TdGQzbRl7NGw         0.977  ...           3\n",
              "6TFuAErGpJ9FpxQQ1HC8nM         0.994  ...           2\n",
              "6Ukl7n0q3Cjd0Og8uBmVeP         0.992  ...           1\n",
              "\n",
              "[5 rows x 16 columns]"
            ]
          },
          "metadata": {
            "tags": []
          },
          "execution_count": 19
        }
      ]
    },
    {
      "cell_type": "markdown",
      "metadata": {
        "id": "5t_Y7kz9HeG3"
      },
      "source": [
        "#Split Data to Training, Validation, Test"
      ]
    },
    {
      "cell_type": "markdown",
      "metadata": {
        "id": "UZnxaUqOVVnT"
      },
      "source": [
        "I chose to do a split using ```train_test_split``` rather than a split by year to try to limit the bias, it won't help much if a song is released the same year and that's the only thing giving a song a higher popularity score.\n",
        "\n"
      ]
    },
    {
      "cell_type": "code",
      "metadata": {
        "id": "RaFd8ltGHjMh"
      },
      "source": [
        "target = 'popularity'\n",
        "y=spotify[target]\n",
        "X = spotify.drop(columns=target)\n",
        "\n",
        "X_train, X_test, y_train, y_test = train_test_split(X, y, test_size=0.2, random_state=42)\n",
        "X_train, X_val, y_train, y_val = train_test_split(X_train, y_train, test_size = 0.2, random_state=42)"
      ],
      "execution_count": 20,
      "outputs": []
    },
    {
      "cell_type": "markdown",
      "metadata": {
        "id": "61VCmIkNHizk"
      },
      "source": [
        "#Establish Baseline"
      ]
    },
    {
      "cell_type": "markdown",
      "metadata": {
        "id": "anHySUw2hg5H"
      },
      "source": [
        "Since Popularity is a continous value, I chose to use MAE as a baseline."
      ]
    },
    {
      "cell_type": "code",
      "metadata": {
        "colab": {
          "base_uri": "https://localhost:8080/"
        },
        "id": "xNzC0si0Houu",
        "outputId": "044fc5c8-0ca6-40db-e7c8-f4d68e7875d6"
      },
      "source": [
        "y_pred = [y_train.mean()] * len(y_train)\n",
        "print('Baseline MAE', mean_absolute_error(y_train, y_pred))"
      ],
      "execution_count": 21,
      "outputs": [
        {
          "output_type": "stream",
          "text": [
            "Baseline MAE 17.5697405403575\n"
          ],
          "name": "stdout"
        }
      ]
    },
    {
      "cell_type": "markdown",
      "metadata": {
        "id": "QzpOLM7IHo9j"
      },
      "source": [
        "#Ridge Regression Model"
      ]
    },
    {
      "cell_type": "markdown",
      "metadata": {
        "id": "AAM7-Q-diDJD"
      },
      "source": [
        "Since Popularity is a continous value, a regression model is needed. I chose Ridge regression in order to reduce the standard errors"
      ]
    },
    {
      "cell_type": "code",
      "metadata": {
        "colab": {
          "base_uri": "https://localhost:8080/"
        },
        "id": "Oo-5OTmvOD1L",
        "outputId": "069cb3fd-1093-4ce9-a0c5-9a11b7701b2f"
      },
      "source": [
        "model_R = make_pipeline(\n",
        "    StandardScaler(),\n",
        "    SelectKBest(),\n",
        "    Ridge(alpha=1, random_state=42)\n",
        ")\n",
        "\n",
        "model_R.fit(X_train, y_train)"
      ],
      "execution_count": 22,
      "outputs": [
        {
          "output_type": "execute_result",
          "data": {
            "text/plain": [
              "Pipeline(memory=None,\n",
              "         steps=[('standardscaler',\n",
              "                 StandardScaler(copy=True, with_mean=True, with_std=True)),\n",
              "                ('selectkbest',\n",
              "                 SelectKBest(k=10,\n",
              "                             score_func=<function f_classif at 0x7f71166e7f28>)),\n",
              "                ('ridge',\n",
              "                 Ridge(alpha=1, copy_X=True, fit_intercept=True, max_iter=None,\n",
              "                       normalize=False, random_state=42, solver='auto',\n",
              "                       tol=0.001))],\n",
              "         verbose=False)"
            ]
          },
          "metadata": {
            "tags": []
          },
          "execution_count": 22
        }
      ]
    },
    {
      "cell_type": "markdown",
      "metadata": {
        "id": "FAWn7hF7HwpG"
      },
      "source": [
        "##Check Metrics"
      ]
    },
    {
      "cell_type": "code",
      "metadata": {
        "colab": {
          "base_uri": "https://localhost:8080/"
        },
        "id": "Qj4ao4jmHz64",
        "outputId": "86b66860-20f9-4395-e7d9-67583c981747"
      },
      "source": [
        "print('Training MAE:', mean_absolute_error(y_train, model_R.predict(X_train)))\n",
        "print('Validation MAE:', mean_absolute_error(y_val, model_R.predict(X_val)))\n",
        "print('Training R^2:', model_R.score(X_train, y_train))\n",
        "print('Validation R^2:', model_R.score(X_val, y_val))"
      ],
      "execution_count": 23,
      "outputs": [
        {
          "output_type": "stream",
          "text": [
            "Training MAE: 13.506244521476622\n",
            "Validation MAE: 13.527477678993352\n",
            "Training R^2: 0.3924794820362163\n",
            "Validation R^2: 0.3834625254389077\n"
          ],
          "name": "stdout"
        }
      ]
    },
    {
      "cell_type": "markdown",
      "metadata": {
        "id": "y29gMuJ0i96i"
      },
      "source": [
        "While the model MAE beats the baseline, it does not beat it by much, and the R-squared score is not that great at .38."
      ]
    },
    {
      "cell_type": "markdown",
      "metadata": {
        "id": "rCee1MLvH0N8"
      },
      "source": [
        "#Random Forest Regression Model"
      ]
    },
    {
      "cell_type": "code",
      "metadata": {
        "id": "URYBqgCmH51H"
      },
      "source": [
        "model_forest = make_pipeline(\n",
        "    RandomForestRegressor(random_state=42, n_jobs=-1)\n",
        ")\n",
        "model_forest.fit(X_train, y_train);"
      ],
      "execution_count": 24,
      "outputs": []
    },
    {
      "cell_type": "markdown",
      "metadata": {
        "id": "hQNINm30H6DN"
      },
      "source": [
        "##Check Metrics"
      ]
    },
    {
      "cell_type": "code",
      "metadata": {
        "id": "6LThsrXhPIo3",
        "colab": {
          "base_uri": "https://localhost:8080/"
        },
        "outputId": "558c7cf0-77c7-4f94-b547-7328b0299589"
      },
      "source": [
        "print('Training MAE:', mean_absolute_error(y_train, model_forest.predict(X_train)));\n",
        "print('Validation MAE:', mean_absolute_error(y_val, model_forest.predict(X_val)));\n",
        "print('Training R^2:', model_forest.score(X_train, y_train));\n",
        "print('Validation R^2:', model_forest.score(X_val, y_val));"
      ],
      "execution_count": 11,
      "outputs": [
        {
          "output_type": "stream",
          "text": [
            "Training MAE: 3.7329571258992043\n",
            "Validation MAE: 9.937997759367539\n",
            "Training R^2: 0.9452485120901762\n",
            "Validation R^2: 0.6150836927593843\n"
          ],
          "name": "stdout"
        }
      ]
    },
    {
      "cell_type": "markdown",
      "metadata": {
        "id": "gy6abRQujaLM"
      },
      "source": [
        "Random Forest does yield better results than the ridge regression. The validation MAE is 9.94 and the validation R-sqaured score of .62"
      ]
    },
    {
      "cell_type": "markdown",
      "metadata": {
        "id": "U6lTdemnSbJK"
      },
      "source": [
        "#Tuning Hyperparameters"
      ]
    },
    {
      "cell_type": "markdown",
      "metadata": {
        "id": "RgBgirInSgP1"
      },
      "source": [
        "##Ridge Model\n"
      ]
    },
    {
      "cell_type": "markdown",
      "metadata": {
        "id": "5XI70HArewbz"
      },
      "source": [
        "I set the hyperparameters k-best to a range of 2 features to 16 and Ridge regression's alpha from 1 to 10."
      ]
    },
    {
      "cell_type": "code",
      "metadata": {
        "id": "ISF3cDUiT0Ox"
      },
      "source": [
        "params = {\n",
        "    'selectkbest__k':range(2,17,2),\n",
        "    'ridge__alpha':range(1,11,1)\n",
        "}\n",
        "\n",
        "\n",
        "tuned_ridge = GridSearchCV(model_R,\n",
        "             param_grid = params,\n",
        "             cv=5,\n",
        "             n_jobs=-1,\n",
        "             verbose=1)\n"
      ],
      "execution_count": 12,
      "outputs": []
    },
    {
      "cell_type": "code",
      "metadata": {
        "id": "SqCrBCH_YV5M",
        "scrolled": true,
        "colab": {
          "base_uri": "https://localhost:8080/"
        },
        "outputId": "e09f38b9-98d3-4b20-c57c-06084d85bff3"
      },
      "source": [
        "tuned_ridge.fit(X_train, y_train)"
      ],
      "execution_count": 13,
      "outputs": [
        {
          "output_type": "stream",
          "text": [
            "Fitting 5 folds for each of 80 candidates, totalling 400 fits\n"
          ],
          "name": "stdout"
        },
        {
          "output_type": "stream",
          "text": [
            "[Parallel(n_jobs=-1)]: Using backend LokyBackend with 2 concurrent workers.\n",
            "[Parallel(n_jobs=-1)]: Done  46 tasks      | elapsed:    8.3s\n",
            "[Parallel(n_jobs=-1)]: Done 196 tasks      | elapsed:   30.3s\n",
            "[Parallel(n_jobs=-1)]: Done 400 out of 400 | elapsed:   59.4s finished\n"
          ],
          "name": "stderr"
        },
        {
          "output_type": "execute_result",
          "data": {
            "text/plain": [
              "GridSearchCV(cv=5, error_score=nan,\n",
              "             estimator=Pipeline(memory=None,\n",
              "                                steps=[('standardscaler',\n",
              "                                        StandardScaler(copy=True,\n",
              "                                                       with_mean=True,\n",
              "                                                       with_std=True)),\n",
              "                                       ('selectkbest',\n",
              "                                        SelectKBest(k=10,\n",
              "                                                    score_func=<function f_classif at 0x7f71166e7f28>)),\n",
              "                                       ('ridge',\n",
              "                                        Ridge(alpha=1, copy_X=True,\n",
              "                                              fit_intercept=True, max_iter=None,\n",
              "                                              normalize=False, random_state=42,\n",
              "                                              solver='auto', tol=0.001))],\n",
              "                                verbose=False),\n",
              "             iid='deprecated', n_jobs=-1,\n",
              "             param_grid={'ridge__alpha': range(1, 11),\n",
              "                         'selectkbest__k': range(2, 17, 2)},\n",
              "             pre_dispatch='2*n_jobs', refit=True, return_train_score=False,\n",
              "             scoring=None, verbose=1)"
            ]
          },
          "metadata": {
            "tags": []
          },
          "execution_count": 13
        }
      ]
    },
    {
      "cell_type": "code",
      "metadata": {
        "scrolled": true,
        "id": "YkJUCjXeBuT_"
      },
      "source": [
        "ridge_tune = tuning1.best_estimator_\n",
        "print('Training MAE:', mean_absolute_error(y_train, ridge_tune.predict(X_train)))\n",
        "print('Validation MAE:', mean_absolute_error(y_val, ridge_tune.predict(X_val)))\n",
        "print('Training R^2:', ridge_tune.score(X_train, y_train))\n",
        "print('Validation R^2:', ridge_tune.score(X_val, y_val))"
      ],
      "execution_count": null,
      "outputs": []
    },
    {
      "cell_type": "markdown",
      "metadata": {
        "id": "F8qKcF0djtQz"
      },
      "source": [
        "Tuning does yield a better MAE and r-sqaured score, but not as well as the Random Forest regressor"
      ]
    },
    {
      "cell_type": "code",
      "metadata": {
        "scrolled": false,
        "id": "W1Vg2DZwBuT_"
      },
      "source": [
        "tuned_ridge.best_estimator_"
      ],
      "execution_count": null,
      "outputs": []
    },
    {
      "cell_type": "markdown",
      "metadata": {
        "id": "V5COvMGGYiAs"
      },
      "source": [
        "##Random Forest Regressor"
      ]
    },
    {
      "cell_type": "markdown",
      "metadata": {
        "id": "kQcleo3bllQW"
      },
      "source": [
        "The hyper paramters I chose to tune were ```n_estimators, max_depth, max_features, and max_samples```.\n",
        "\n",
        "I chose a randomized search in order to tune a better random forest model quickly.\n",
        "\n"
      ]
    },
    {
      "cell_type": "code",
      "metadata": {
        "id": "fGxHOqPjX0wo"
      },
      "source": [
        "\n",
        "params_f = {\n",
        "    'randomforestregressor__n_estimators':range(10,201,10),\n",
        "    'randomforestregressor__max_depth': range(5,36,5),\n",
        "    'randomforestregressor__max_features': range(2,17,2),\n",
        "    'randomforestregressor__max_samples': np.arange(0.2,0.8,0.2)\n",
        "}\n",
        "\n",
        "tuning_forest = RandomizedSearchCV(\n",
        "    model_forest, \n",
        "    param_distributions=params_f, \n",
        "    n_iter=10,\n",
        "    n_jobs=8, \n",
        "    cv=5, \n",
        "    random_state=42,\n",
        "    verbose=1\n",
        ")"
      ],
      "execution_count": null,
      "outputs": []
    },
    {
      "cell_type": "code",
      "metadata": {
        "id": "hJuSKPZ2a8-y"
      },
      "source": [
        "#turning3.fit(X_train, y_train)\n",
        "tuning_forest.fit(X_train, y_train)"
      ],
      "execution_count": null,
      "outputs": []
    },
    {
      "cell_type": "code",
      "metadata": {
        "id": "592fk0doBuT_"
      },
      "source": [
        "tuned_forest = tuning_forest.best_estimator_\n",
        "print('Training MAE:', mean_absolute_error(y_train, tuned_forest.predict(X_train)))\n",
        "print('Validation MAE:', mean_absolute_error(y_val, tuned_forest.predict(X_val)))\n",
        "print('Training R^2:', tuned_forest.score(X_train, y_train))\n",
        "print('Validation R^2:', tuned_forest.score(X_val, y_val))"
      ],
      "execution_count": null,
      "outputs": []
    },
    {
      "cell_type": "code",
      "metadata": {
        "id": "SQBavnpQBuUA"
      },
      "source": [
        "tuning_forest.best_estimator_"
      ],
      "execution_count": null,
      "outputs": []
    },
    {
      "cell_type": "markdown",
      "metadata": {
        "id": "ONiJ2gWIWzBy"
      },
      "source": [
        "As the n_estimators increases, so does the time to fit the model. Seeing as the hyperparameter I set was up to 200 n_estimators, there maybe some tuning left on the table, but one more try at 400 n_estimators showed a slighly higher validation MAE and a higher r-squared score."
      ]
    },
    {
      "cell_type": "code",
      "metadata": {
        "id": "XBcUuSbXBuUA"
      },
      "source": [
        "tuned_forest = RandomForestRegressor(max_depth=25, max_features=10,\n",
        "                                       max_samples=0.4, n_estimators=400,\n",
        "                                       n_jobs=-1, random_state=42)\n",
        "tuned_forest.fit(X_train, y_train)"
      ],
      "execution_count": null,
      "outputs": []
    },
    {
      "cell_type": "code",
      "metadata": {
        "id": "MVQFiVCJCz25"
      },
      "source": [
        "print('Training MAE:', mean_absolute_error(y_train, tuned_forest.predict(X_train)))\n",
        "print('Validation MAE:', mean_absolute_error(y_val, tuned_forest.predict(X_val)))\n",
        "print('Training R^2:', tuned_forest.score(X_train, y_train))\n",
        "print('Validation R^2:', tuned_forest.score(X_val, y_val))"
      ],
      "execution_count": null,
      "outputs": []
    },
    {
      "cell_type": "markdown",
      "metadata": {
        "id": "v3oXUZc0ZuQ0"
      },
      "source": [
        "#Final Test MAE and R-Sqaured score using tuned RandomForestRegressor."
      ]
    },
    {
      "cell_type": "code",
      "metadata": {
        "id": "K2C9nM0nDMKe"
      },
      "source": [
        "print('Test MAE:', mean_absolute_error(y_test, tuned_forest.predict(X_test)))\n",
        "print('Test R^2:', tuned_forest.score(X_test, y_test))"
      ],
      "execution_count": null,
      "outputs": []
    },
    {
      "cell_type": "code",
      "metadata": {
        "id": "oy28H8DGtx4G"
      },
      "source": [
        ""
      ],
      "execution_count": null,
      "outputs": []
    }
  ]
}